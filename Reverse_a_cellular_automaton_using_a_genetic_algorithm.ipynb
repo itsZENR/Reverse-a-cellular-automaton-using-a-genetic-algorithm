{
  "nbformat": 4,
  "nbformat_minor": 0,
  "metadata": {
    "colab": {
      "provenance": [],
      "authorship_tag": "ABX9TyN+Pv8gMadLcKl1JZpmKQZC",
      "include_colab_link": true
    },
    "kernelspec": {
      "name": "python3",
      "display_name": "Python 3"
    },
    "language_info": {
      "name": "python"
    }
  },
  "cells": [
    {
      "cell_type": "markdown",
      "metadata": {
        "id": "view-in-github",
        "colab_type": "text"
      },
      "source": [
        "<a href=\"https://colab.research.google.com/github/itsZENR/Reverse-a-cellular-automaton-using-a-genetic-algorithm/blob/main/Reverse_a_cellular_automaton_using_a_genetic_algorithm.ipynb\" target=\"_parent\"><img src=\"https://colab.research.google.com/assets/colab-badge.svg\" alt=\"Open In Colab\"/></a>"
      ]
    },
    {
      "cell_type": "markdown",
      "source": [
        "# Библиотеки"
      ],
      "metadata": {
        "id": "GxVDOmF08LqW"
      }
    },
    {
      "cell_type": "code",
      "source": [
        "import numpy as np\n",
        "import random\n",
        "from deap import algorithms, base, creator, tools"
      ],
      "metadata": {
        "id": "CcTOsjrE8NkN"
      },
      "execution_count": 95,
      "outputs": []
    },
    {
      "cell_type": "markdown",
      "source": [
        "# Привило игры жизнь"
      ],
      "metadata": {
        "id": "nEbk5eJXwcCY"
      }
    },
    {
      "cell_type": "code",
      "source": [
        "def rule(grid, i, j):\n",
        "    # получаем размер сетки\n",
        "    rows, cols = len(grid), len(grid[0])\n",
        "    \n",
        "    # вычисляем сумму значений соседних клеток\n",
        "    neighbors_sum = (\n",
        "        grid[(i-1)%rows][(j-1)%cols] + grid[(i-1)%rows][j] + grid[(i-1)%rows][(j+1)%cols] +\n",
        "        grid[i][(j-1)%cols] + grid[i][(j+1)%cols] +\n",
        "        grid[(i+1)%rows][(j-1)%cols] + grid[(i+1)%rows][j] + grid[(i+1)%rows][(j+1)%cols]\n",
        "    )\n",
        "    \n",
        "    # определяем новое состояние клетки на основе ее текущего состояния и суммы значений соседей\n",
        "    if grid[i][j] == 1:\n",
        "        if neighbors_sum < 2 or neighbors_sum > 3:\n",
        "            return 0\n",
        "        else:\n",
        "            return 1\n",
        "    else:\n",
        "        if neighbors_sum == 3:\n",
        "            return 1\n",
        "        else:\n",
        "            return 0"
      ],
      "metadata": {
        "id": "obAmcOSfvUwx"
      },
      "execution_count": 7,
      "outputs": []
    },
    {
      "cell_type": "markdown",
      "source": [
        "# Добавить рамку из нулей"
      ],
      "metadata": {
        "id": "-zQuThxe5eft"
      }
    },
    {
      "cell_type": "code",
      "source": [
        "def add_border(arr):\n",
        "    rows, cols = np.shape(arr)\n",
        "    new_arr = np.zeros((rows+2, cols+2))\n",
        "    new_arr[1:-1, 1:-1] = arr\n",
        "    return new_arr"
      ],
      "metadata": {
        "id": "hqAerdIL37fD"
      },
      "execution_count": 6,
      "outputs": []
    },
    {
      "cell_type": "markdown",
      "source": [
        "# Убрать рамку из нулей"
      ],
      "metadata": {
        "id": "3xAPJ2PM8GLF"
      }
    },
    {
      "cell_type": "code",
      "source": [
        "def remove_border(matrix):\n",
        "    # Получаем размеры матрицы\n",
        "    rows, cols = len(matrix), len(matrix[0])\n",
        "    \n",
        "    # Создаем новую матрицу размером на 2 строки и 2 столбца меньше\n",
        "    new_matrix = [[0] * (cols - 2) for _ in range(rows - 2)]\n",
        "    \n",
        "    # Копируем значения из старой матрицы в новую без учета рамки\n",
        "    for i in range(1, rows - 1):\n",
        "        for j in range(1, cols - 1):\n",
        "            new_matrix[i - 1][j - 1] = matrix[i][j]\n",
        "    \n",
        "    return np.array(new_matrix)"
      ],
      "metadata": {
        "id": "0R24RQ_X7mjS"
      },
      "execution_count": 5,
      "outputs": []
    },
    {
      "cell_type": "markdown",
      "source": [
        "# Таблицы"
      ],
      "metadata": {
        "id": "AIo4xEttwnqV"
      }
    },
    {
      "cell_type": "code",
      "source": [
        "grid = [[1,1,1]\n",
        "       ,[1,0,1]\n",
        "       ,[1,1,1]]"
      ],
      "metadata": {
        "id": "KoscnDKf77ht"
      },
      "execution_count": 92,
      "outputs": []
    },
    {
      "cell_type": "code",
      "source": [
        "grid = [[0,0,0,0,0]\n",
        "       ,[0,1,1,1,0]\n",
        "       ,[0,1,1,1,0]\n",
        "       ,[0,1,1,1,0]\n",
        "       ,[0,0,0,0,0]]"
      ],
      "metadata": {
        "id": "onCQ2cJp7-yY"
      },
      "execution_count": 27,
      "outputs": []
    },
    {
      "cell_type": "code",
      "source": [
        "grid = [[1,1]\n",
        "       ,[1,1]]"
      ],
      "metadata": {
        "id": "wqu9P4NJE0mC"
      },
      "execution_count": 24,
      "outputs": []
    },
    {
      "cell_type": "code",
      "source": [
        "grid = [[1]]"
      ],
      "metadata": {
        "id": "P5yBlMKFGnl_"
      },
      "execution_count": 74,
      "outputs": []
    },
    {
      "cell_type": "code",
      "source": [
        "import numpy as np\n",
        "\n",
        "# создаем два двумерных массива\n",
        "a = np.array([[1, 0]\n",
        "             ,[1, 0]])\n",
        "\n",
        "b = np.array([[1, 1]\n",
        "             ,[1, 0]])\n",
        "\n",
        "# находим индексы элементов, которые находятся в одинаковых позициях в массивах a и b\n",
        "indices = np.where(a == b)\n",
        "\n",
        "# выводим значения и индексы элементов, которые находятся в одинаковых позициях\n",
        "for i in range(len(indices[0])):\n",
        "    # print(\"Value:\", a[indices[0][i], indices[1][i]], \"Index:\", (indices[0][i], indices[1][i]))\n",
        "    print(\"Index:\", (indices[0][i], indices[1][i]))\n",
        "\n",
        "len(indices[0])"
      ],
      "metadata": {
        "colab": {
          "base_uri": "https://localhost:8080/"
        },
        "id": "Yb4MxbYDO4hp",
        "outputId": "d55ccdd7-707f-4c3d-adf4-3df9cb041b7f"
      },
      "execution_count": 63,
      "outputs": [
        {
          "output_type": "stream",
          "name": "stdout",
          "text": [
            "Index: (0, 0)\n",
            "Index: (1, 0)\n",
            "Index: (1, 1)\n"
          ]
        },
        {
          "output_type": "execute_result",
          "data": {
            "text/plain": [
              "3"
            ]
          },
          "metadata": {},
          "execution_count": 63
        }
      ]
    },
    {
      "cell_type": "markdown",
      "source": [
        "# Итерация на шаг вперед"
      ],
      "metadata": {
        "id": "d1g8w4Hs8pM4"
      }
    },
    {
      "cell_type": "code",
      "source": [
        "def iter(grid):\n",
        "  border_grid = add_border(grid)\n",
        "  n = len(border_grid)\n",
        "  m = len(border_grid[0])\n",
        "\n",
        "  new_border_grid = np.zeros((n, m))\n",
        "  for i in range(n):\n",
        "    for j in range(m):\n",
        "      new_border_grid[i][j] = rule(border_grid, i, j)\n",
        "\n",
        "  return remove_border(new_border_grid)"
      ],
      "metadata": {
        "id": "XRjUmD0CCxyg"
      },
      "execution_count": 2,
      "outputs": []
    },
    {
      "cell_type": "markdown",
      "source": [
        "# Перебор (Просто показывает все варианты и показывает их следующую итерацию)"
      ],
      "metadata": {
        "id": "2RR_ufBUwWJx"
      }
    },
    {
      "cell_type": "code",
      "source": [
        "n = len(grid)+2\n",
        "m = len(grid[0])+2\n",
        "\n",
        "k = n*m\n",
        "    \n",
        "\n",
        "def find(i = 0):\n",
        "    if i == k:\n",
        "        print('r')\n",
        "        print(a.reshape(n, m))\n",
        "        print()\n",
        "        print('i')\n",
        "        print(iter(a.reshape(n, m)))\n",
        "        print()\n",
        "        return\n",
        "    a[i] = 0\n",
        "    find(i + 1)\n",
        "    a[i] = 1\n",
        "    find(i + 1)\n",
        "\n",
        "\n",
        "a = np.zeros(k)\n",
        "find()"
      ],
      "metadata": {
        "id": "Qm5WuuZfwYz6"
      },
      "execution_count": null,
      "outputs": []
    },
    {
      "cell_type": "markdown",
      "source": [
        "# Генетический алгоритм"
      ],
      "metadata": {
        "id": "b59YR70r9BA7"
      }
    },
    {
      "cell_type": "code",
      "source": [
        "!pip install deap"
      ],
      "metadata": {
        "colab": {
          "base_uri": "https://localhost:8080/"
        },
        "id": "vvMGGGIWIUEb",
        "outputId": "ec2850e8-b496-49d8-c503-16fd1137287b"
      },
      "execution_count": 11,
      "outputs": [
        {
          "output_type": "stream",
          "name": "stdout",
          "text": [
            "Looking in indexes: https://pypi.org/simple, https://us-python.pkg.dev/colab-wheels/public/simple/\n",
            "Collecting deap\n",
            "  Downloading deap-1.3.3-cp39-cp39-manylinux_2_5_x86_64.manylinux1_x86_64.manylinux_2_17_x86_64.manylinux2014_x86_64.whl (139 kB)\n",
            "\u001b[2K     \u001b[90m━━━━━━━━━━━━━━━━━━━━━━━━━━━━━━━━━━━━━━━\u001b[0m \u001b[32m139.8/139.8 KB\u001b[0m \u001b[31m3.8 MB/s\u001b[0m eta \u001b[36m0:00:00\u001b[0m\n",
            "\u001b[?25hRequirement already satisfied: numpy in /usr/local/lib/python3.9/dist-packages (from deap) (1.22.4)\n",
            "Installing collected packages: deap\n",
            "Successfully installed deap-1.3.3\n"
          ]
        }
      ]
    },
    {
      "cell_type": "code",
      "source": [
        "# Создаем объект-класс FitnessMin для минимизации функции\n",
        "creator.create(\"FitnessMin\", base.Fitness, weights=(1.0,))\n",
        "\n",
        "# Создаем объект-класс Individual, наследующийся от списка и имеющий атрибут fitness\n",
        "creator.create(\"Individual\", list, fitness=creator.FitnessMin)\n",
        "\n",
        "n = len(grid)+2\n",
        "m = len(grid[0])+2\n",
        "\n",
        "# Задаем параметры алгоритма и создаем популяцию\n",
        "pop_size = 1000\n",
        "gen_size = n*m\n",
        "cx_prob = 0.5\n",
        "mut_prob = 0.2\n",
        "pop = [creator.Individual([random.randint(0, 1) for _ in range(gen_size)]) for _ in range(pop_size)]\n",
        "\n",
        "# Определяем функцию оценки приспособленности\n",
        "def eval_one_max(individual):\n",
        "    indices = np.where(add_border(grid) == iter(np.array(individual).reshape(n,m)))\n",
        "    return len(indices[0]),\n",
        "\n",
        "# Создаем объект-класс Toolbox и регистрируем необходимые функции\n",
        "toolbox = base.Toolbox()\n",
        "toolbox.register(\"evaluate\", eval_one_max)\n",
        "toolbox.register(\"mate\", tools.cxTwoPoint)\n",
        "toolbox.register(\"mutate\", tools.mutFlipBit, indpb=mut_prob)\n",
        "toolbox.register(\"select\", tools.selTournament, tournsize=3)\n",
        "\n",
        "# Запускаем генетический алгоритм\n",
        "num_generations = 50\n",
        "for gen in range(num_generations):\n",
        "    offspring = algorithms.varAnd(pop, toolbox, cxpb=cx_prob, mutpb=mut_prob)\n",
        "    fits = toolbox.map(toolbox.evaluate, offspring)\n",
        "    for fit, ind in zip(fits, offspring):\n",
        "        ind.fitness.values = fit\n",
        "    pop = toolbox.select(offspring, k=len(pop))\n",
        "    \n",
        "# Получаем лучшее решение и его оценку приспособленности\n",
        "best_ind = tools.selBest(pop, k=1)[0]\n",
        "best_fitness = best_ind.fitness.values[0]\n",
        "\n",
        "print(\"Best individual is \", best_ind)\n",
        "print(\"Best fitness is \", best_fitness)"
      ],
      "metadata": {
        "colab": {
          "base_uri": "https://localhost:8080/"
        },
        "id": "YTNfnfhyENuf",
        "outputId": "7e6bd2cc-9908-4970-f0cd-7cde594817c4"
      },
      "execution_count": 101,
      "outputs": [
        {
          "output_type": "stream",
          "name": "stdout",
          "text": [
            "Best individual is  [0, 1, 0, 0, 0, 0, 0, 1, 0, 1, 0, 1, 0, 1, 0, 0, 0, 1, 0, 0, 0, 0, 1, 0, 0]\n",
            "Best fitness is  25.0\n"
          ]
        }
      ]
    },
    {
      "cell_type": "code",
      "source": [],
      "metadata": {
        "id": "UktYgOtUIuHe"
      },
      "execution_count": null,
      "outputs": []
    }
  ]
}